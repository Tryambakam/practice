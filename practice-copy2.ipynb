{
 "cells": [
  {
   "cell_type": "code",
   "execution_count": 1,
   "id": "d41ffb53",
   "metadata": {},
   "outputs": [
    {
     "name": "stdout",
     "output_type": "stream",
     "text": [
      "code 1\n"
     ]
    }
   ],
   "source": [
    "print(\"code 1\")"
   ]
  },
  {
   "cell_type": "markdown",
   "id": "5d89a47f",
   "metadata": {},
   "source": [
    "this is a markdown"
   ]
  },
  {
   "cell_type": "code",
   "execution_count": 1,
   "id": "de4b5d8c",
   "metadata": {},
   "outputs": [
    {
     "name": "stdout",
     "output_type": "stream",
     "text": [
      "hello world\n"
     ]
    }
   ],
   "source": [
    "print(\"hello world\")"
   ]
  },
  {
   "cell_type": "code",
   "execution_count": 2,
   "id": "8014a551-7cd0-4d48-a5f0-1064ed5cf529",
   "metadata": {},
   "outputs": [
    {
     "name": "stdout",
     "output_type": "stream",
     "text": [
      "10 15\n"
     ]
    }
   ],
   "source": [
    "x=10\n",
    "y=15\n",
    "print(str(x)+\" \"+str(y))"
   ]
  },
  {
   "cell_type": "code",
   "execution_count": 12,
   "id": "8a8e0b9f-d05d-487e-b0ff-3334f6e1f4cd",
   "metadata": {},
   "outputs": [
    {
     "name": "stdout",
     "output_type": "stream",
     "text": [
      "<class 'str'>\n"
     ]
    }
   ],
   "source": [
    "#this is comment.\n",
    "x=3\n",
    "y = str(x)\n",
    "print(type(y))"
   ]
  },
  {
   "cell_type": "markdown",
   "id": "92d108b3-90d1-4978-92fe-15f72fb80f49",
   "metadata": {},
   "source": [
    "rules of naming a variable:-\n",
    ">variable name must start with a letter or an underscore.\n",
    ">variable name cannot start with a number.\n",
    ">variable name can only contain alphanumeric values.(A-Z,a-z,0-9,_)\n",
    ">variable names are case sensitive\n",
    ">variable name cannot be any python keyword\n",
    "\n",
    "\n",
    "camelCase\n",
    "PascalCase\n",
    "snake_case"
   ]
  },
  {
   "cell_type": "code",
   "execution_count": 17,
   "id": "fdae1516-944e-4cea-a016-c3c093aa41d3",
   "metadata": {},
   "outputs": [
    {
     "name": "stdout",
     "output_type": "stream",
     "text": [
      "3\n",
      "4\n",
      "5\n"
     ]
    }
   ],
   "source": [
    "x,y,z = 3,4,5\n",
    "print(x)\n",
    "print(y)\n",
    "print(z)"
   ]
  },
  {
   "cell_type": "code",
   "execution_count": null,
   "id": "52abb77a-8c84-4483-addd-7a4203ab349a",
   "metadata": {},
   "outputs": [],
   "source": [
    "PYTHON DATA TYPES\n",
    "\n",
    "Text/Strng - str\n",
    "\n",
    "Numeric - int,float,Complex\n",
    "\n",
    "Sequence - list,tuple,range\n",
    "\n",
    "Mapping - dict\n",
    "\n",
    "set, bool, bytes, bytearray"
   ]
  },
  {
   "cell_type": "code",
   "execution_count": 18,
   "id": "b4559fc1-a8d3-44cf-9f17-b90b68bcb983",
   "metadata": {},
   "outputs": [
    {
     "name": "stdout",
     "output_type": "stream",
     "text": [
      "<class 'str'>\n"
     ]
    }
   ],
   "source": [
    "x = \"Hello World\"\n",
    "print(type(x))"
   ]
  },
  {
   "cell_type": "code",
   "execution_count": 19,
   "id": "605c0709-c262-4b3b-adb5-11dcb124445b",
   "metadata": {},
   "outputs": [
    {
     "name": "stdout",
     "output_type": "stream",
     "text": [
      "<class 'complex'>\n"
     ]
    }
   ],
   "source": [
    "x = 20j\n",
    "print(type(x))"
   ]
  },
  {
   "cell_type": "code",
   "execution_count": 20,
   "id": "69d48a2b-1888-4cc3-9eae-6ce099a27737",
   "metadata": {},
   "outputs": [
    {
     "name": "stdout",
     "output_type": "stream",
     "text": [
      "<class 'list'>\n"
     ]
    }
   ],
   "source": [
    "x = [\"1\",\"2\",\"3\"]\n",
    "print(type(x))"
   ]
  },
  {
   "cell_type": "code",
   "execution_count": 21,
   "id": "fc852439-c214-47c3-ac0e-c72ce7b24122",
   "metadata": {},
   "outputs": [
    {
     "name": "stdout",
     "output_type": "stream",
     "text": [
      "<class 'tuple'>\n"
     ]
    }
   ],
   "source": [
    "x = (\"1\",\"2\",\"3\")\n",
    "print(type(x))"
   ]
  },
  {
   "cell_type": "code",
   "execution_count": 24,
   "id": "560f7a9b-a27c-4cc5-a8b8-704ff54c28ee",
   "metadata": {},
   "outputs": [
    {
     "name": "stdout",
     "output_type": "stream",
     "text": [
      "<class 'range'>\n",
      "range(0, 10)\n"
     ]
    }
   ],
   "source": [
    "x = range(10)\n",
    "print(type(x))\n",
    "print(x)"
   ]
  },
  {
   "cell_type": "code",
   "execution_count": 26,
   "id": "b38ba380-2b88-4334-9c99-0550beff7553",
   "metadata": {},
   "outputs": [
    {
     "name": "stdout",
     "output_type": "stream",
     "text": [
      "{'name': 'cipher schools', 'batch': 'data science batch'}\n",
      "<class 'dict'>\n"
     ]
    }
   ],
   "source": [
    "x = {\"name\":\"cipher schools\", \"batch\" : \"data science batch\"}\n",
    "print(x)\n",
    "print(type(x))"
   ]
  },
  {
   "cell_type": "code",
   "execution_count": 31,
   "id": "1eebddb6-a58b-4ce7-be7a-6cad2b2526ce",
   "metadata": {},
   "outputs": [
    {
     "name": "stdout",
     "output_type": "stream",
     "text": [
      "True\n",
      "<class 'bool'>\n"
     ]
    }
   ],
   "source": [
    "x = True\n",
    "print(x)\n",
    "print(type(x))"
   ]
  },
  {
   "cell_type": "code",
   "execution_count": 13,
   "id": "10364253-b670-43aa-bd15-7bf6dcde0fde",
   "metadata": {},
   "outputs": [
    {
     "name": "stdout",
     "output_type": "stream",
     "text": [
      "Tryambakam dev sharma\n"
     ]
    }
   ],
   "source": [
    "name = \"tryambakam dev sharma\"\n",
    "print(name.strip())\n",
    "print(name[0:10])\n",
    "print(name[0])\n",
    "print(name[:14])\n",
    "print(name[10:])\n",
    "print(name.upper())\n",
    "print(name.lower())\n",
    "print(name.split())\n",
    "print(name.replace('t','T'))"
   ]
  },
  {
   "cell_type": "markdown",
   "id": "495b3b72-7e1f-461b-a3c7-3192700f4ccd",
   "metadata": {},
   "source": [
    "Array => sequential of data\n",
    "base address - 0\n",
    "String are array of characters."
   ]
  },
  {
   "cell_type": "code",
   "execution_count": 1,
   "id": "764be3e0-f91c-402e-85e8-2c99eee8d4fb",
   "metadata": {},
   "outputs": [
    {
     "name": "stdout",
     "output_type": "stream",
     "text": [
      "['he', 'llo']\n"
     ]
    }
   ],
   "source": [
    "x = \"he.llo\"\n",
    "print(x.split(\".\"))"
   ]
  },
  {
   "cell_type": "code",
   "execution_count": null,
   "id": "4a245d29-32a4-4e64-a52c-538046fbf8b0",
   "metadata": {},
   "outputs": [],
   "source": [
    "a"
   ]
  }
 ],
 "metadata": {
  "kernelspec": {
   "display_name": "Python 3 (ipykernel)",
   "language": "python",
   "name": "python3"
  },
  "language_info": {
   "codemirror_mode": {
    "name": "ipython",
    "version": 3
   },
   "file_extension": ".py",
   "mimetype": "text/x-python",
   "name": "python",
   "nbconvert_exporter": "python",
   "pygments_lexer": "ipython3",
   "version": "3.12.4"
  }
 },
 "nbformat": 4,
 "nbformat_minor": 5
}
